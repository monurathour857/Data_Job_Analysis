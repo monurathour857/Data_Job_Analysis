{
 "cells": [
  {
   "cell_type": "code",
   "execution_count": 6,
   "id": "9a281b7e-b60b-4cd9-9ff2-944582f44559",
   "metadata": {},
   "outputs": [
    {
     "name": "stdout",
     "output_type": "stream",
     "text": [
      "Requirement already satisfied: pyodbc in c:\\users\\acer\\anaconda3\\lib\\site-packages (5.0.1)Note: you may need to restart the kernel to use updated packages.\n",
      "\n"
     ]
    }
   ],
   "source": [
    "pip install pyodbc "
   ]
  },
  {
   "cell_type": "code",
   "execution_count": 7,
   "id": "cedc34d2-e48c-4c61-aa5e-29c66d1ed982",
   "metadata": {},
   "outputs": [],
   "source": [
    "import numpy as np\n",
    "import pandas as pd\n",
    "import pyodbc"
   ]
  },
  {
   "cell_type": "code",
   "execution_count": 17,
   "id": "2226d90f-55c8-4158-b6a5-e7496d1c54ac",
   "metadata": {},
   "outputs": [
    {
     "name": "stdout",
     "output_type": "stream",
     "text": [
      "Connection Successfull\n"
     ]
    },
    {
     "name": "stderr",
     "output_type": "stream",
     "text": [
      "C:\\Users\\acer\\AppData\\Local\\Temp\\ipykernel_11728\\134772098.py:24: UserWarning: pandas only supports SQLAlchemy connectable (engine/connection) or database string URI or sqlite3 DBAPI2 connection. Other DBAPI2 objects are not tested. Please consider using SQLAlchemy.\n",
      "  df= pd.read_sql(query, conn)\n"
     ]
    }
   ],
   "source": [
    "#CREATE A CONNECTION TO MY DATABASE\n",
    "\n",
    "\n",
    "#DATABASE DETAILS\n",
    "server = 'Ajay\\\\AJAY'  \n",
    "database = 'CampusX'\n",
    "username = 'sa'\n",
    "password = 'CampusX@21'\n",
    "\n",
    "#TABLES_NAME\n",
    "table_names = ['company_dim2','job_postings_fact2','skills_dim2','skills_job_dim2']\n",
    "#CONNECTION STRING\n",
    "conn_str =  f'DRIVER={{ODBC Driver 17 for SQL Server}};SERVER={server};DATABASE={database};UID={username};PWD={password}'\n",
    "\n",
    "#CONNECT TO MS-SQL SERVER\n",
    "conn= pyodbc.connect(conn_str)\n",
    "print(\"Connection Successfull\")\n",
    "\n",
    "#DICTIONARY TO STORE ALL THE TABLES\n",
    "dataframes= {}\n",
    "\n",
    "for table_name in table_names:\n",
    "    query= f\"Select * from {table_name}\"\n",
    "    df= pd.read_sql(query, conn)\n",
    "    dataframes[table_name]= df\n",
    "\n",
    "conn.close()"
   ]
  },
  {
   "cell_type": "code",
   "execution_count": 18,
   "id": "a885d920-3754-44c0-bab5-4fb0979709ed",
   "metadata": {},
   "outputs": [],
   "source": [
    "company= dataframes['company_dim2']\n",
    "Job_posting= dataframes['job_postings_fact2']\n",
    "skill_id = dataframes['skills_job_dim2']\n",
    "skills = dataframes['skills_dim2']"
   ]
  },
  {
   "cell_type": "code",
   "execution_count": 25,
   "id": "6309795a-28c9-4fb2-9551-51c0b9533d0e",
   "metadata": {},
   "outputs": [],
   "source": [
    "merge = pd.merge(company, Job_posting, on=\"company_id\", how= \"left\")"
   ]
  },
  {
   "cell_type": "code",
   "execution_count": 27,
   "id": "36b5f265-b7f7-49f7-8af1-ed426214b48a",
   "metadata": {},
   "outputs": [],
   "source": [
    "merge = pd.merge(merge, skill_id, on=\"job_id\", how= \"left\")"
   ]
  },
  {
   "cell_type": "code",
   "execution_count": 29,
   "id": "edbd9174-1501-444e-858f-8a4fb9333229",
   "metadata": {},
   "outputs": [],
   "source": [
    "merge = pd.merge(merge, skills, on=\"skill_id\", how= \"left\")"
   ]
  },
  {
   "cell_type": "code",
   "execution_count": 32,
   "id": "55e6c5e4-2748-4c50-81eb-c7f5d6617179",
   "metadata": {},
   "outputs": [
    {
     "data": {
      "text/plain": [
       "Index(['company_id', 'name', 'link', 'link_google', 'thumbnail', 'job_id',\n",
       "       'job_title_short', 'job_title', 'job_location', 'job_via',\n",
       "       'job_schedule_type', 'job_work_from_home', 'search_location',\n",
       "       'job_posted_date', 'job_no_degree_mention', 'job_health_insurance',\n",
       "       'job_country', 'salary_rate', 'salary_year_avg', 'salary_hour_avg',\n",
       "       'skill_id', 'skills', 'type'],\n",
       "      dtype='object')"
      ]
     },
     "execution_count": 32,
     "metadata": {},
     "output_type": "execute_result"
    }
   ],
   "source": [
    "merge.columns"
   ]
  },
  {
   "cell_type": "code",
   "execution_count": 36,
   "id": "143452c9-0f69-4b6a-bdd9-74659f1641de",
   "metadata": {},
   "outputs": [],
   "source": [
    "columns_to_be_dropped = ['link', 'link_google', 'thumbnail','job_via','job_no_degree_mention', 'job_health_insurance',\n",
    "       'job_country', 'salary_rate', 'salary_year_avg', 'salary_hour_avg',\n",
    "       'skill_id','type']"
   ]
  },
  {
   "cell_type": "code",
   "execution_count": 37,
   "id": "55d1cee8-d317-4f9e-a873-977195259ce1",
   "metadata": {},
   "outputs": [],
   "source": [
    "merge.drop(columns=columns_to_be_dropped,inplace=True)"
   ]
  },
  {
   "cell_type": "code",
   "execution_count": 38,
   "id": "8810f16a-637b-4c03-825a-0054301643bd",
   "metadata": {},
   "outputs": [
    {
     "data": {
      "text/plain": [
       "Index(['company_id', 'name', 'job_id', 'job_title_short', 'job_title',\n",
       "       'job_location', 'job_schedule_type', 'job_work_from_home',\n",
       "       'search_location', 'job_posted_date', 'skills'],\n",
       "      dtype='object')"
      ]
     },
     "execution_count": 38,
     "metadata": {},
     "output_type": "execute_result"
    }
   ],
   "source": [
    "merge.columns"
   ]
  },
  {
   "cell_type": "code",
   "execution_count": 43,
   "id": "fc31ac8c-1136-4ead-b757-9c1545474c60",
   "metadata": {},
   "outputs": [],
   "source": [
    "merge['skills']= merge['skills'].fillna('').astype(str)"
   ]
  },
  {
   "cell_type": "code",
   "execution_count": null,
   "id": "6f64db83-324a-4d0a-98fb-074511c2f8a7",
   "metadata": {},
   "outputs": [],
   "source": []
  },
  {
   "cell_type": "code",
   "execution_count": null,
   "id": "fc84b792-4463-442b-80f3-01e20838b8bc",
   "metadata": {},
   "outputs": [],
   "source": []
  },
  {
   "cell_type": "code",
   "execution_count": 47,
   "id": "0eb6055f-a645-4ad2-abcb-0fbb145f3837",
   "metadata": {},
   "outputs": [],
   "source": [
    "final_dataframe = merge.groupby(['company_id', 'name', 'job_id', 'job_title_short', 'job_title',\n",
    "       'job_location', 'job_schedule_type', 'job_work_from_home',\n",
    "       'search_location', 'job_posted_date'])['skills'].agg(','.join).reset_index()"
   ]
  },
  {
   "cell_type": "code",
   "execution_count": 48,
   "id": "b6db0fe5-906f-4eaa-8358-db5e813fa296",
   "metadata": {},
   "outputs": [
    {
     "data": {
      "text/html": [
       "<div>\n",
       "<style scoped>\n",
       "    .dataframe tbody tr th:only-of-type {\n",
       "        vertical-align: middle;\n",
       "    }\n",
       "\n",
       "    .dataframe tbody tr th {\n",
       "        vertical-align: top;\n",
       "    }\n",
       "\n",
       "    .dataframe thead th {\n",
       "        text-align: right;\n",
       "    }\n",
       "</style>\n",
       "<table border=\"1\" class=\"dataframe\">\n",
       "  <thead>\n",
       "    <tr style=\"text-align: right;\">\n",
       "      <th></th>\n",
       "      <th>company_id</th>\n",
       "      <th>name</th>\n",
       "      <th>job_id</th>\n",
       "      <th>job_title_short</th>\n",
       "      <th>job_title</th>\n",
       "      <th>job_location</th>\n",
       "      <th>job_schedule_type</th>\n",
       "      <th>job_work_from_home</th>\n",
       "      <th>search_location</th>\n",
       "      <th>job_posted_date</th>\n",
       "      <th>skills</th>\n",
       "    </tr>\n",
       "  </thead>\n",
       "  <tbody>\n",
       "    <tr>\n",
       "      <th>0</th>\n",
       "      <td>0</td>\n",
       "      <td>Cryptology</td>\n",
       "      <td>0</td>\n",
       "      <td>Data Analyst</td>\n",
       "      <td>Marketing Data Analyst</td>\n",
       "      <td>Anywhere</td>\n",
       "      <td>Full-time</td>\n",
       "      <td>True</td>\n",
       "      <td>Serbia</td>\n",
       "      <td>2023-09-25 17:46:06</td>\n",
       "      <td>sql,python,excel,tableau,power bi</td>\n",
       "    </tr>\n",
       "    <tr>\n",
       "      <th>1</th>\n",
       "      <td>0</td>\n",
       "      <td>Cryptology</td>\n",
       "      <td>923232</td>\n",
       "      <td>Data Analyst</td>\n",
       "      <td>Marketing Data Analyst</td>\n",
       "      <td>Anywhere</td>\n",
       "      <td>Full-time</td>\n",
       "      <td>True</td>\n",
       "      <td>Spain</td>\n",
       "      <td>2023-09-25 17:51:21</td>\n",
       "      <td>sql,python,excel,tableau,power bi</td>\n",
       "    </tr>\n",
       "    <tr>\n",
       "      <th>2</th>\n",
       "      <td>0</td>\n",
       "      <td>Cryptology</td>\n",
       "      <td>1695656</td>\n",
       "      <td>Data Analyst</td>\n",
       "      <td>Marketing Data Analyst</td>\n",
       "      <td>Anywhere</td>\n",
       "      <td>Full-time</td>\n",
       "      <td>True</td>\n",
       "      <td>United Kingdom</td>\n",
       "      <td>2023-09-25 18:11:19</td>\n",
       "      <td>sql,python,excel,tableau,power bi</td>\n",
       "    </tr>\n",
       "    <tr>\n",
       "      <th>3</th>\n",
       "      <td>0</td>\n",
       "      <td>Cryptology</td>\n",
       "      <td>1819517</td>\n",
       "      <td>Data Analyst</td>\n",
       "      <td>Marketing Data Analyst</td>\n",
       "      <td>Madrid, Spain</td>\n",
       "      <td>Full-time</td>\n",
       "      <td>False</td>\n",
       "      <td>Spain</td>\n",
       "      <td>2023-10-10 10:32:19</td>\n",
       "      <td>sql,python,excel,tableau,power bi</td>\n",
       "    </tr>\n",
       "    <tr>\n",
       "      <th>4</th>\n",
       "      <td>1</td>\n",
       "      <td>Edraak</td>\n",
       "      <td>55</td>\n",
       "      <td>Cloud Engineer</td>\n",
       "      <td>Storage and Virtualization Engineer</td>\n",
       "      <td>Kuwait City, Kuwait</td>\n",
       "      <td>Full-time</td>\n",
       "      <td>False</td>\n",
       "      <td>Kuwait</td>\n",
       "      <td>2023-07-30 17:49:18</td>\n",
       "      <td>vmware</td>\n",
       "    </tr>\n",
       "    <tr>\n",
       "      <th>...</th>\n",
       "      <td>...</td>\n",
       "      <td>...</td>\n",
       "      <td>...</td>\n",
       "      <td>...</td>\n",
       "      <td>...</td>\n",
       "      <td>...</td>\n",
       "      <td>...</td>\n",
       "      <td>...</td>\n",
       "      <td>...</td>\n",
       "      <td>...</td>\n",
       "      <td>...</td>\n",
       "    </tr>\n",
       "    <tr>\n",
       "      <th>773931</th>\n",
       "      <td>787652</td>\n",
       "      <td>Rotary Engineering Pte. Ltd.</td>\n",
       "      <td>1424742</td>\n",
       "      <td>Senior Data Scientist</td>\n",
       "      <td>Senior Design Engineer (Instrumentation)</td>\n",
       "      <td>Singapura</td>\n",
       "      <td>Kontraktor</td>\n",
       "      <td>False</td>\n",
       "      <td>Singapore</td>\n",
       "      <td>2023-03-13 06:16:16</td>\n",
       "      <td>sheets,excel,word,terminal</td>\n",
       "    </tr>\n",
       "    <tr>\n",
       "      <th>773932</th>\n",
       "      <td>787674</td>\n",
       "      <td>Pure App</td>\n",
       "      <td>549918</td>\n",
       "      <td>Senior Data Engineer</td>\n",
       "      <td>Senior Data Engineer</td>\n",
       "      <td>Berlin, Jerman</td>\n",
       "      <td>Pekerjaan tetap</td>\n",
       "      <td>False</td>\n",
       "      <td>Germany</td>\n",
       "      <td>2023-03-13 06:19:07</td>\n",
       "      <td>sql,python,bigquery,aws,airflow,fastapi,github...</td>\n",
       "    </tr>\n",
       "    <tr>\n",
       "      <th>773933</th>\n",
       "      <td>787675</td>\n",
       "      <td>Staff-UP Consulting Group</td>\n",
       "      <td>782857</td>\n",
       "      <td>Business Analyst</td>\n",
       "      <td>PreSales Engineer</td>\n",
       "      <td>Almaty, Kazakhstan</td>\n",
       "      <td>Pekerjaan tetap</td>\n",
       "      <td>False</td>\n",
       "      <td>Kazakhstan</td>\n",
       "      <td>2023-03-12 06:31:13</td>\n",
       "      <td>windows</td>\n",
       "    </tr>\n",
       "    <tr>\n",
       "      <th>773934</th>\n",
       "      <td>787680</td>\n",
       "      <td>CAREERSTAR INTERNATIONAL PTE. LTD.</td>\n",
       "      <td>828965</td>\n",
       "      <td>Software Engineer</td>\n",
       "      <td>DevOps Engineer</td>\n",
       "      <td>Singapura</td>\n",
       "      <td>Pekerjaan tetap</td>\n",
       "      <td>False</td>\n",
       "      <td>Singapore</td>\n",
       "      <td>2023-03-13 06:16:16</td>\n",
       "      <td>bash,python,perl,linux,unix,kubernetes,docker,...</td>\n",
       "    </tr>\n",
       "    <tr>\n",
       "      <th>773935</th>\n",
       "      <td>787681</td>\n",
       "      <td>Lendlease Corporation</td>\n",
       "      <td>1146883</td>\n",
       "      <td>Business Analyst</td>\n",
       "      <td>Commercial Analyst - Start Now</td>\n",
       "      <td>Malaysia</td>\n",
       "      <td>Pekerjaan tetap</td>\n",
       "      <td>False</td>\n",
       "      <td>Malaysia</td>\n",
       "      <td>2023-03-12 06:32:36</td>\n",
       "      <td>powerpoint,excel</td>\n",
       "    </tr>\n",
       "  </tbody>\n",
       "</table>\n",
       "<p>773936 rows × 11 columns</p>\n",
       "</div>"
      ],
      "text/plain": [
       "        company_id                                name   job_id  \\\n",
       "0                0                          Cryptology        0   \n",
       "1                0                          Cryptology   923232   \n",
       "2                0                          Cryptology  1695656   \n",
       "3                0                          Cryptology  1819517   \n",
       "4                1                              Edraak       55   \n",
       "...            ...                                 ...      ...   \n",
       "773931      787652        Rotary Engineering Pte. Ltd.  1424742   \n",
       "773932      787674                            Pure App   549918   \n",
       "773933      787675           Staff-UP Consulting Group   782857   \n",
       "773934      787680  CAREERSTAR INTERNATIONAL PTE. LTD.   828965   \n",
       "773935      787681               Lendlease Corporation  1146883   \n",
       "\n",
       "              job_title_short                                 job_title  \\\n",
       "0                Data Analyst                    Marketing Data Analyst   \n",
       "1                Data Analyst                    Marketing Data Analyst   \n",
       "2                Data Analyst                    Marketing Data Analyst   \n",
       "3                Data Analyst                    Marketing Data Analyst   \n",
       "4              Cloud Engineer       Storage and Virtualization Engineer   \n",
       "...                       ...                                       ...   \n",
       "773931  Senior Data Scientist  Senior Design Engineer (Instrumentation)   \n",
       "773932   Senior Data Engineer                      Senior Data Engineer   \n",
       "773933       Business Analyst                         PreSales Engineer   \n",
       "773934      Software Engineer                           DevOps Engineer   \n",
       "773935       Business Analyst            Commercial Analyst - Start Now   \n",
       "\n",
       "               job_location job_schedule_type  job_work_from_home  \\\n",
       "0                  Anywhere         Full-time                True   \n",
       "1                  Anywhere         Full-time                True   \n",
       "2                  Anywhere         Full-time                True   \n",
       "3             Madrid, Spain         Full-time               False   \n",
       "4       Kuwait City, Kuwait         Full-time               False   \n",
       "...                     ...               ...                 ...   \n",
       "773931            Singapura        Kontraktor               False   \n",
       "773932       Berlin, Jerman   Pekerjaan tetap               False   \n",
       "773933   Almaty, Kazakhstan   Pekerjaan tetap               False   \n",
       "773934            Singapura   Pekerjaan tetap               False   \n",
       "773935             Malaysia   Pekerjaan tetap               False   \n",
       "\n",
       "       search_location     job_posted_date  \\\n",
       "0               Serbia 2023-09-25 17:46:06   \n",
       "1                Spain 2023-09-25 17:51:21   \n",
       "2       United Kingdom 2023-09-25 18:11:19   \n",
       "3                Spain 2023-10-10 10:32:19   \n",
       "4               Kuwait 2023-07-30 17:49:18   \n",
       "...                ...                 ...   \n",
       "773931       Singapore 2023-03-13 06:16:16   \n",
       "773932         Germany 2023-03-13 06:19:07   \n",
       "773933      Kazakhstan 2023-03-12 06:31:13   \n",
       "773934       Singapore 2023-03-13 06:16:16   \n",
       "773935        Malaysia 2023-03-12 06:32:36   \n",
       "\n",
       "                                                   skills  \n",
       "0                       sql,python,excel,tableau,power bi  \n",
       "1                       sql,python,excel,tableau,power bi  \n",
       "2                       sql,python,excel,tableau,power bi  \n",
       "3                       sql,python,excel,tableau,power bi  \n",
       "4                                                  vmware  \n",
       "...                                                   ...  \n",
       "773931                         sheets,excel,word,terminal  \n",
       "773932  sql,python,bigquery,aws,airflow,fastapi,github...  \n",
       "773933                                            windows  \n",
       "773934  bash,python,perl,linux,unix,kubernetes,docker,...  \n",
       "773935                                   powerpoint,excel  \n",
       "\n",
       "[773936 rows x 11 columns]"
      ]
     },
     "execution_count": 48,
     "metadata": {},
     "output_type": "execute_result"
    }
   ],
   "source": [
    "final_dataframe"
   ]
  },
  {
   "cell_type": "code",
   "execution_count": null,
   "id": "31ac9b83-b6a2-47e3-ab3c-ee8072acf802",
   "metadata": {},
   "outputs": [],
   "source": []
  }
 ],
 "metadata": {
  "kernelspec": {
   "display_name": "Python 3 (ipykernel)",
   "language": "python",
   "name": "python3"
  },
  "language_info": {
   "codemirror_mode": {
    "name": "ipython",
    "version": 3
   },
   "file_extension": ".py",
   "mimetype": "text/x-python",
   "name": "python",
   "nbconvert_exporter": "python",
   "pygments_lexer": "ipython3",
   "version": "3.12.4"
  }
 },
 "nbformat": 4,
 "nbformat_minor": 5
}
